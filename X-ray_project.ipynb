{
  "nbformat": 4,
  "nbformat_minor": 0,
  "metadata": {
    "colab": {
      "name": "Niramai_final_code",
      "provenance": []
    },
    "kernelspec": {
      "name": "python3",
      "display_name": "Python 3"
    },
    "accelerator": "GPU"
  },
  "cells": [
    {
      "cell_type": "code",
      "metadata": {
        "id": "XLix3eZ-LZjh",
        "outputId": "4d4c2576-bdba-4ba8-bf04-badf60e6067e",
        "colab": {
          "base_uri": "https://localhost:8080/",
          "height": 34
        }
      },
      "source": [
        "from google.colab import drive\n",
        "drive.mount('/content/drive')"
      ],
      "execution_count": null,
      "outputs": [
        {
          "output_type": "stream",
          "text": [
            "Mounted at /content/drive\n"
          ],
          "name": "stdout"
        }
      ]
    },
    {
      "cell_type": "code",
      "metadata": {
        "id": "aftomh9kHIsB"
      },
      "source": [
        "from tensorflow.python.keras.preprocessing.image import ImageDataGenerator\n",
        "from tensorflow.python.keras.layers import Dense, Conv2D, Dropout, BatchNormalization\n",
        "from tensorflow.python.keras.layers import MaxPooling2D, Input, Activation\n",
        "from tensorflow.python.keras.layers.advanced_activations import LeakyReLU\n",
        "from tensorflow.python.keras.optimizers import Adam\n",
        "from tensorflow.python.keras.applications.resnet import ResNet101\n",
        "from tensorflow.python.keras.models import Sequential, Model\n",
        "from tensorflow.python.keras.callbacks import TensorBoard, ModelCheckpoint,History,EarlyStopping\n",
        "from tensorflow.python.keras.applications.vgg16 import VGG16\n",
        "from tensorflow.python.keras.applications.densenet import DenseNet121\n",
        "import tensorflow as tf\n",
        "import numpy as np\n",
        "from tensorflow.python.keras.callbacks import ReduceLROnPlateau\n",
        "from tensorflow.python.keras.models import load_model"
      ],
      "execution_count": null,
      "outputs": []
    },
    {
      "cell_type": "code",
      "metadata": {
        "id": "wZYqQOXxY1lG"
      },
      "source": [
        "class primary_classifier():\n",
        "\n",
        "    def __init__(self,input_shape = (224,224,3),latent_dim = 128,freezed_layers = 313,pre_activation = 'relu',dropout_rate = 0.2,batch_size = 32):\n",
        "        self.input_shape = input_shape\n",
        "        self.latent_dim = latent_dim\n",
        "        self.freezed_layers = freezed_layers\n",
        "        self.pre_activation = pre_activation\n",
        "        self.dropout_rate = dropout_rate\n",
        "        self.batch_size = batch_size\n",
        "\n",
        "    def get_model(self):\n",
        "        baseModel =  DenseNet121(weights=\"imagenet\", include_top=False,pooling = 'avg',input_shape = self.input_shape)\n",
        "        output = baseModel.output\n",
        "        output = BatchNormalization()(output)\n",
        "        output = Dense(self.latent_dim, activation=self.pre_activation)(output)\n",
        "        output = Dropout(self.dropout_rate)(output)\n",
        "        output = BatchNormalization()(output)\n",
        "        output = Dense(1, activation='sigmoid')(output)\n",
        "        model = Model(inputs=baseModel.input, outputs=output)\n",
        "        \n",
        "        for layer in baseModel.layers[:self.freezed_layers]:\n",
        "            layer.trainable = False\n",
        "        for layer in baseModel.layers[self.freezed_layers:]:\n",
        "            layer.trainable = True\n",
        "        return model\n",
        "\n",
        "    def convert_generator_to_numpy(self, data_generator, size):\n",
        "        X = []\n",
        "        y = []\n",
        "        for i in range(int(size / self.batch_size)):\n",
        "            a,b = data_generator.next()\n",
        "            for j in range(self.batch_size):\n",
        "                X.append(a[j])\n",
        "                y.append(b[j])\n",
        "\n",
        "        return (np.array(X), np.array(y))\n",
        "        \n",
        "    def loadmodel(self, model_path):\n",
        "        return load_model(model_path)\n",
        "\n",
        "    def data_loader(self,train_data_path,test_data_path):\n",
        "        train_datagen = ImageDataGenerator(\n",
        "            rescale=1./255,\n",
        "            shear_range=0.2,\n",
        "            zoom_range=0.2,\n",
        "            brightness_range=[0.5,1.5],\n",
        "            rotation_range = 90,\n",
        "            horizontal_flip=True)\n",
        "        val_datagen = ImageDataGenerator(rescale=1./255)\n",
        "        \n",
        "        train_generator = train_datagen.flow_from_directory(\n",
        "            train_data_path,\n",
        "            target_size=(224, 224),\n",
        "            batch_size=self.batch_size,\n",
        "            class_mode='binary')\n",
        "        val_generator = val_datagen.flow_from_directory(\n",
        "            test_data_path,\n",
        "            target_size=(224, 224),\n",
        "            batch_size=self.batch_size,\n",
        "            class_mode='binary')\n",
        "            \n",
        "        return (train_generator, val_generator)\n",
        "\n",
        "    def train(self,model,train_generator,test_generator,train_size = 5216,test_size = 624,optimizer = 'adam',loss = 'binary_crossentropy',max_epochs = 100,use_callbacks  = False, model_file_path = 0):\n",
        "        def get_callbacks(model_file_path):\n",
        "            checkpoint  = ModelCheckpoint(model_file_path,monitor='val_accuracy',verbose=1,save_best_only=True,save_freq='epoch',mode='max')\n",
        "            hist = History()\n",
        "            lr_reduce = ReduceLROnPlateau(monitor='val_accuracy', factor=0.1, min_delta=0.0001, patience=1, verbose=1)\n",
        "            es = EarlyStopping(monitor='val_loss', mode='min', verbose=1, patience=15)\n",
        "            callbacks = [checkpoint, hist, lr_reduce, es]\n",
        "            return callbacks\n",
        "            \n",
        "        model.compile(loss = loss , optimizer = optimizer, metrics = ['accuracy'])\n",
        "        \n",
        "        if use_callbacks == True:\n",
        "            callbacks = get_callbacks(model_file_path)\n",
        "            model.fit_generator(train_generator,\n",
        "            steps_per_epoch= train_size/ self.batch_size,\n",
        "    \t\tepochs=max_epochs,\n",
        "    \t\tvalidation_data=test_generator,\n",
        "    \t\tvalidation_steps = test_size / self.batch_size,\n",
        "    \t\tcallbacks=callbacks)\n",
        "        else:\n",
        "            model.fit_generator(train_generator,\n",
        "            steps_per_epoch= train_size/ self.batch_size,\n",
        "            epochs=max_epochs,\n",
        "            validation_data=test_generator,\n",
        "            validation_steps = test_size / self.batch_size\n",
        "            )\n",
        "\n",
        "\n",
        "        return model\n",
        "\n",
        "    def evaluate(self, model, X_test, y_test):\n",
        "        loss , acc = model.evaluate(X_test, y_test)\n",
        "        print('Loss:{}'.format(loss))\n",
        "        print(\"Accuracy:{}\".format(acc))\n",
        "\n",
        "    def get_predictions(self, model, X_test, pred_threshold = 0.5):\n",
        "        preds =  model.predict(X_test)\n",
        "        if 0 < pred_threshold < 1:\n",
        "            for i in range(len(preds)):\n",
        "                if preds[i] >= pred_threshold:\n",
        "                    preds[i] = 1\n",
        "                else:\n",
        "                    preds[i] = 0\n",
        "        else:\n",
        "            raise Exception(\"pred_threshold should be between 0-1\")\n",
        "\n",
        "        return preds\n",
        "\n",
        "    def get_visualizations(self, orig_test_labels, preds):\n",
        "        def plot_confusion_matrix(cm,target_names,title='Confusion matrix',cmap=None,normalize=True):\n",
        "            import matplotlib.pyplot as plt\n",
        "            import numpy as np\n",
        "            import itertools\n",
        "            \n",
        "            \n",
        "            accuracy = np.trace(cm) / float(np.sum(cm))\n",
        "            misclass = 1 - accuracy\n",
        "            \n",
        "            if cmap is None:\n",
        "                cmap = plt.get_cmap('Blues')\n",
        "                \n",
        "            plt.figure(figsize=(8, 6))\n",
        "            plt.imshow(cm, interpolation='nearest', cmap=cmap)\n",
        "            plt.title(title)\n",
        "            plt.colorbar()\n",
        "            \n",
        "            if target_names is not None:\n",
        "                tick_marks = np.arange(len(target_names))\n",
        "                plt.xticks(tick_marks, target_names, rotation=45)\n",
        "                plt.yticks(tick_marks, target_names)\n",
        "                \n",
        "            if normalize:\n",
        "                cm = cm.astype('float') / cm.sum(axis=1)[:, np.newaxis]\n",
        "                \n",
        "            thresh = cm.max() / 1.5 if normalize else cm.max() / 2\n",
        "            for i, j in itertools.product(range(cm.shape[0]), range(cm.shape[1])):\n",
        "                if normalize:\n",
        "                    plt.text(j, i, \"{:0.4f}\".format(cm[i, j]),\n",
        "                    horizontalalignment=\"center\",\n",
        "                    color=\"white\" if cm[i, j] > thresh else \"black\")\n",
        "                else:\n",
        "                    plt.text(j, i, \"{:,}\".format(cm[i, j]),\n",
        "                    horizontalalignment=\"center\",\n",
        "                    color=\"white\" if cm[i, j] > thresh else \"black\")\n",
        "                    \n",
        "            plt.tight_layout()\n",
        "            plt.ylabel('True label')\n",
        "            plt.xlabel('Predicted label\\naccuracy={:0.4f}; misclass={:0.4f}'.format(accuracy, misclass))\n",
        "            plt.show()\n",
        "            \n",
        "        import seaborn as sns\n",
        "        import matplotlib.pyplot as plt\n",
        "        import matplotlib.image as mimg\n",
        "        from sklearn.metrics import confusion_matrix\n",
        "        \n",
        "        cm  = confusion_matrix(orig_test_labels, preds)\n",
        "        print(cm.shape)\n",
        "        plot_confusion_matrix(cm,normalize=False,target_names=['normal','pneumonia'],title=\"Confusion Matrix\")\n"
      ],
      "execution_count": null,
      "outputs": []
    },
    {
      "cell_type": "code",
      "metadata": {
        "id": "gi9MMyjQjrmk"
      },
      "source": [
        "pf = primary_classifier()"
      ],
      "execution_count": null,
      "outputs": []
    },
    {
      "cell_type": "code",
      "metadata": {
        "id": "WYGWgL4gHaUQ",
        "outputId": "7ce753e6-21b9-4007-e074-5084ab5f321b",
        "colab": {
          "base_uri": "https://localhost:8080/",
          "height": 71
        }
      },
      "source": [
        "model = pf.get_model()"
      ],
      "execution_count": null,
      "outputs": [
        {
          "output_type": "stream",
          "text": [
            "Downloading data from https://storage.googleapis.com/tensorflow/keras-applications/densenet/densenet121_weights_tf_dim_ordering_tf_kernels_notop.h5\n",
            "29089792/29084464 [==============================] - 2s 0us/step\n"
          ],
          "name": "stdout"
        }
      ]
    },
    {
      "cell_type": "code",
      "metadata": {
        "id": "zy_c7QJ8H79r"
      },
      "source": [
        "train_path = '/content/drive/My Drive/pneumonia_detection/dataset/chest_xray/train'\n",
        "val_path = '/content/drive/My Drive/pneumonia_detection/dataset/chest_xray/test'"
      ],
      "execution_count": null,
      "outputs": []
    },
    {
      "cell_type": "code",
      "metadata": {
        "id": "ecNX60m7I9SH",
        "outputId": "91d7688f-d59a-4e27-99e5-7b8bd79c899d",
        "colab": {
          "base_uri": "https://localhost:8080/",
          "height": 51
        }
      },
      "source": [
        "train_generator, val_generator = pf.data_loader(train_path,val_path)"
      ],
      "execution_count": null,
      "outputs": [
        {
          "output_type": "stream",
          "text": [
            "Found 1341 images belonging to 2 classes.\n",
            "Found 624 images belonging to 2 classes.\n"
          ],
          "name": "stdout"
        }
      ]
    },
    {
      "cell_type": "code",
      "metadata": {
        "id": "kIyi1RTjaUCr",
        "outputId": "2c05d019-74e0-40f5-8053-83b7a5acd776",
        "colab": {
          "base_uri": "https://localhost:8080/",
          "height": 282
        }
      },
      "source": [
        "X_val, y_val = pf.convert_generator_to_numpy(val_generator, 624)"
      ],
      "execution_count": null,
      "outputs": [
        {
          "output_type": "error",
          "ename": "IndexError",
          "evalue": "ignored",
          "traceback": [
            "\u001b[0;31m---------------------------------------------------------------------------\u001b[0m",
            "\u001b[0;31mIndexError\u001b[0m                                Traceback (most recent call last)",
            "\u001b[0;32m<ipython-input-11-48f4fe7520fd>\u001b[0m in \u001b[0;36m<module>\u001b[0;34m()\u001b[0m\n\u001b[0;32m----> 1\u001b[0;31m \u001b[0mX_val\u001b[0m\u001b[0;34m,\u001b[0m \u001b[0my_val\u001b[0m \u001b[0;34m=\u001b[0m \u001b[0mpf\u001b[0m\u001b[0;34m.\u001b[0m\u001b[0mconvert_generator_to_numpy\u001b[0m\u001b[0;34m(\u001b[0m\u001b[0mval_generator\u001b[0m\u001b[0;34m,\u001b[0m \u001b[0;36m624\u001b[0m\u001b[0;34m)\u001b[0m\u001b[0;34m\u001b[0m\u001b[0;34m\u001b[0m\u001b[0m\n\u001b[0m",
            "\u001b[0;32m<ipython-input-2-b6686d50ca67>\u001b[0m in \u001b[0;36mconvert_generator_to_numpy\u001b[0;34m(self, data_generator, size)\u001b[0m\n\u001b[1;32m     31\u001b[0m             \u001b[0ma\u001b[0m\u001b[0;34m,\u001b[0m\u001b[0mb\u001b[0m \u001b[0;34m=\u001b[0m \u001b[0mdata_generator\u001b[0m\u001b[0;34m.\u001b[0m\u001b[0mnext\u001b[0m\u001b[0;34m(\u001b[0m\u001b[0;34m)\u001b[0m\u001b[0;34m\u001b[0m\u001b[0;34m\u001b[0m\u001b[0m\n\u001b[1;32m     32\u001b[0m             \u001b[0;32mfor\u001b[0m \u001b[0mj\u001b[0m \u001b[0;32min\u001b[0m \u001b[0mrange\u001b[0m\u001b[0;34m(\u001b[0m\u001b[0mself\u001b[0m\u001b[0;34m.\u001b[0m\u001b[0mbatch_size\u001b[0m\u001b[0;34m)\u001b[0m\u001b[0;34m:\u001b[0m\u001b[0;34m\u001b[0m\u001b[0;34m\u001b[0m\u001b[0m\n\u001b[0;32m---> 33\u001b[0;31m                 \u001b[0mX\u001b[0m\u001b[0;34m.\u001b[0m\u001b[0mappend\u001b[0m\u001b[0;34m(\u001b[0m\u001b[0ma\u001b[0m\u001b[0;34m[\u001b[0m\u001b[0mj\u001b[0m\u001b[0;34m]\u001b[0m\u001b[0;34m)\u001b[0m\u001b[0;34m\u001b[0m\u001b[0;34m\u001b[0m\u001b[0m\n\u001b[0m\u001b[1;32m     34\u001b[0m                 \u001b[0my\u001b[0m\u001b[0;34m.\u001b[0m\u001b[0mappend\u001b[0m\u001b[0;34m(\u001b[0m\u001b[0mb\u001b[0m\u001b[0;34m[\u001b[0m\u001b[0mj\u001b[0m\u001b[0;34m]\u001b[0m\u001b[0;34m)\u001b[0m\u001b[0;34m\u001b[0m\u001b[0;34m\u001b[0m\u001b[0m\n\u001b[1;32m     35\u001b[0m \u001b[0;34m\u001b[0m\u001b[0m\n",
            "\u001b[0;31mIndexError\u001b[0m: index 16 is out of bounds for axis 0 with size 16"
          ]
        }
      ]
    },
    {
      "cell_type": "code",
      "metadata": {
        "id": "xU5D-ze-JFIJ",
        "outputId": "d92efb05-0aef-49a6-c7b0-10a8f1bb5cce",
        "colab": {
          "base_uri": "https://localhost:8080/",
          "height": 411
        }
      },
      "source": [
        "pf.train(model, train_generator, val_generator)"
      ],
      "execution_count": null,
      "outputs": [
        {
          "output_type": "stream",
          "text": [
            "WARNING:tensorflow:From <ipython-input-36-b6686d50ca67>:88: Model.fit_generator (from tensorflow.python.keras.engine.training) is deprecated and will be removed in a future version.\n",
            "Instructions for updating:\n",
            "Please use Model.fit, which supports generators.\n",
            "Epoch 1/100\n",
            "  4/163 [..............................] - ETA: 18:17 - loss: 0.5811 - accuracy: 0.7578"
          ],
          "name": "stdout"
        },
        {
          "output_type": "error",
          "ename": "KeyboardInterrupt",
          "evalue": "ignored",
          "traceback": [
            "\u001b[0;31m---------------------------------------------------------------------------\u001b[0m",
            "\u001b[0;31mKeyboardInterrupt\u001b[0m                         Traceback (most recent call last)",
            "\u001b[0;32m<ipython-input-42-851cff53936b>\u001b[0m in \u001b[0;36m<module>\u001b[0;34m()\u001b[0m\n\u001b[0;32m----> 1\u001b[0;31m \u001b[0mpf\u001b[0m\u001b[0;34m.\u001b[0m\u001b[0mtrain\u001b[0m\u001b[0;34m(\u001b[0m\u001b[0mmodel\u001b[0m\u001b[0;34m,\u001b[0m \u001b[0mtrain_generator\u001b[0m\u001b[0;34m,\u001b[0m \u001b[0mval_generator\u001b[0m\u001b[0;34m)\u001b[0m\u001b[0;34m\u001b[0m\u001b[0;34m\u001b[0m\u001b[0m\n\u001b[0m",
            "\u001b[0;32m<ipython-input-36-b6686d50ca67>\u001b[0m in \u001b[0;36mtrain\u001b[0;34m(self, model, train_generator, test_generator, train_size, test_size, optimizer, loss, max_epochs, use_callbacks, model_file_path)\u001b[0m\n\u001b[1;32m     86\u001b[0m             \u001b[0mepochs\u001b[0m\u001b[0;34m=\u001b[0m\u001b[0mmax_epochs\u001b[0m\u001b[0;34m,\u001b[0m\u001b[0;34m\u001b[0m\u001b[0;34m\u001b[0m\u001b[0m\n\u001b[1;32m     87\u001b[0m             \u001b[0mvalidation_data\u001b[0m\u001b[0;34m=\u001b[0m\u001b[0mtest_generator\u001b[0m\u001b[0;34m,\u001b[0m\u001b[0;34m\u001b[0m\u001b[0;34m\u001b[0m\u001b[0m\n\u001b[0;32m---> 88\u001b[0;31m             \u001b[0mvalidation_steps\u001b[0m \u001b[0;34m=\u001b[0m \u001b[0mtest_size\u001b[0m \u001b[0;34m/\u001b[0m \u001b[0mself\u001b[0m\u001b[0;34m.\u001b[0m\u001b[0mbatch_size\u001b[0m\u001b[0;34m\u001b[0m\u001b[0;34m\u001b[0m\u001b[0m\n\u001b[0m\u001b[1;32m     89\u001b[0m             )\n\u001b[1;32m     90\u001b[0m \u001b[0;34m\u001b[0m\u001b[0m\n",
            "\u001b[0;32m/usr/local/lib/python3.6/dist-packages/tensorflow/python/util/deprecation.py\u001b[0m in \u001b[0;36mnew_func\u001b[0;34m(*args, **kwargs)\u001b[0m\n\u001b[1;32m    322\u001b[0m               \u001b[0;34m'in a future version'\u001b[0m \u001b[0;32mif\u001b[0m \u001b[0mdate\u001b[0m \u001b[0;32mis\u001b[0m \u001b[0;32mNone\u001b[0m \u001b[0;32melse\u001b[0m \u001b[0;34m(\u001b[0m\u001b[0;34m'after %s'\u001b[0m \u001b[0;34m%\u001b[0m \u001b[0mdate\u001b[0m\u001b[0;34m)\u001b[0m\u001b[0;34m,\u001b[0m\u001b[0;34m\u001b[0m\u001b[0;34m\u001b[0m\u001b[0m\n\u001b[1;32m    323\u001b[0m               instructions)\n\u001b[0;32m--> 324\u001b[0;31m       \u001b[0;32mreturn\u001b[0m \u001b[0mfunc\u001b[0m\u001b[0;34m(\u001b[0m\u001b[0;34m*\u001b[0m\u001b[0margs\u001b[0m\u001b[0;34m,\u001b[0m \u001b[0;34m**\u001b[0m\u001b[0mkwargs\u001b[0m\u001b[0;34m)\u001b[0m\u001b[0;34m\u001b[0m\u001b[0;34m\u001b[0m\u001b[0m\n\u001b[0m\u001b[1;32m    325\u001b[0m     return tf_decorator.make_decorator(\n\u001b[1;32m    326\u001b[0m         \u001b[0mfunc\u001b[0m\u001b[0;34m,\u001b[0m \u001b[0mnew_func\u001b[0m\u001b[0;34m,\u001b[0m \u001b[0;34m'deprecated'\u001b[0m\u001b[0;34m,\u001b[0m\u001b[0;34m\u001b[0m\u001b[0;34m\u001b[0m\u001b[0m\n",
            "\u001b[0;32m/usr/local/lib/python3.6/dist-packages/tensorflow/python/keras/engine/training.py\u001b[0m in \u001b[0;36mfit_generator\u001b[0;34m(self, generator, steps_per_epoch, epochs, verbose, callbacks, validation_data, validation_steps, validation_freq, class_weight, max_queue_size, workers, use_multiprocessing, shuffle, initial_epoch)\u001b[0m\n\u001b[1;32m   1480\u001b[0m         \u001b[0muse_multiprocessing\u001b[0m\u001b[0;34m=\u001b[0m\u001b[0muse_multiprocessing\u001b[0m\u001b[0;34m,\u001b[0m\u001b[0;34m\u001b[0m\u001b[0;34m\u001b[0m\u001b[0m\n\u001b[1;32m   1481\u001b[0m         \u001b[0mshuffle\u001b[0m\u001b[0;34m=\u001b[0m\u001b[0mshuffle\u001b[0m\u001b[0;34m,\u001b[0m\u001b[0;34m\u001b[0m\u001b[0;34m\u001b[0m\u001b[0m\n\u001b[0;32m-> 1482\u001b[0;31m         initial_epoch=initial_epoch)\n\u001b[0m\u001b[1;32m   1483\u001b[0m \u001b[0;34m\u001b[0m\u001b[0m\n\u001b[1;32m   1484\u001b[0m   @deprecation.deprecated(\n",
            "\u001b[0;32m/usr/local/lib/python3.6/dist-packages/tensorflow/python/keras/engine/training.py\u001b[0m in \u001b[0;36m_method_wrapper\u001b[0;34m(self, *args, **kwargs)\u001b[0m\n\u001b[1;32m     64\u001b[0m   \u001b[0;32mdef\u001b[0m \u001b[0m_method_wrapper\u001b[0m\u001b[0;34m(\u001b[0m\u001b[0mself\u001b[0m\u001b[0;34m,\u001b[0m \u001b[0;34m*\u001b[0m\u001b[0margs\u001b[0m\u001b[0;34m,\u001b[0m \u001b[0;34m**\u001b[0m\u001b[0mkwargs\u001b[0m\u001b[0;34m)\u001b[0m\u001b[0;34m:\u001b[0m\u001b[0;34m\u001b[0m\u001b[0;34m\u001b[0m\u001b[0m\n\u001b[1;32m     65\u001b[0m     \u001b[0;32mif\u001b[0m \u001b[0;32mnot\u001b[0m \u001b[0mself\u001b[0m\u001b[0;34m.\u001b[0m\u001b[0m_in_multi_worker_mode\u001b[0m\u001b[0;34m(\u001b[0m\u001b[0;34m)\u001b[0m\u001b[0;34m:\u001b[0m  \u001b[0;31m# pylint: disable=protected-access\u001b[0m\u001b[0;34m\u001b[0m\u001b[0;34m\u001b[0m\u001b[0m\n\u001b[0;32m---> 66\u001b[0;31m       \u001b[0;32mreturn\u001b[0m \u001b[0mmethod\u001b[0m\u001b[0;34m(\u001b[0m\u001b[0mself\u001b[0m\u001b[0;34m,\u001b[0m \u001b[0;34m*\u001b[0m\u001b[0margs\u001b[0m\u001b[0;34m,\u001b[0m \u001b[0;34m**\u001b[0m\u001b[0mkwargs\u001b[0m\u001b[0;34m)\u001b[0m\u001b[0;34m\u001b[0m\u001b[0;34m\u001b[0m\u001b[0m\n\u001b[0m\u001b[1;32m     67\u001b[0m \u001b[0;34m\u001b[0m\u001b[0m\n\u001b[1;32m     68\u001b[0m     \u001b[0;31m# Running inside `run_distribute_coordinator` already.\u001b[0m\u001b[0;34m\u001b[0m\u001b[0;34m\u001b[0m\u001b[0;34m\u001b[0m\u001b[0m\n",
            "\u001b[0;32m/usr/local/lib/python3.6/dist-packages/tensorflow/python/keras/engine/training.py\u001b[0m in \u001b[0;36mfit\u001b[0;34m(self, x, y, batch_size, epochs, verbose, callbacks, validation_split, validation_data, shuffle, class_weight, sample_weight, initial_epoch, steps_per_epoch, validation_steps, validation_batch_size, validation_freq, max_queue_size, workers, use_multiprocessing, **kwargs)\u001b[0m\n\u001b[1;32m    849\u001b[0m                 batch_size=batch_size):\n\u001b[1;32m    850\u001b[0m               \u001b[0mcallbacks\u001b[0m\u001b[0;34m.\u001b[0m\u001b[0mon_train_batch_begin\u001b[0m\u001b[0;34m(\u001b[0m\u001b[0mstep\u001b[0m\u001b[0;34m)\u001b[0m\u001b[0;34m\u001b[0m\u001b[0;34m\u001b[0m\u001b[0m\n\u001b[0;32m--> 851\u001b[0;31m               \u001b[0mtmp_logs\u001b[0m \u001b[0;34m=\u001b[0m \u001b[0mtrain_function\u001b[0m\u001b[0;34m(\u001b[0m\u001b[0miterator\u001b[0m\u001b[0;34m)\u001b[0m\u001b[0;34m\u001b[0m\u001b[0;34m\u001b[0m\u001b[0m\n\u001b[0m\u001b[1;32m    852\u001b[0m               \u001b[0;31m# Catch OutOfRangeError for Datasets of unknown size.\u001b[0m\u001b[0;34m\u001b[0m\u001b[0;34m\u001b[0m\u001b[0;34m\u001b[0m\u001b[0m\n\u001b[1;32m    853\u001b[0m               \u001b[0;31m# This blocks until the batch has finished executing.\u001b[0m\u001b[0;34m\u001b[0m\u001b[0;34m\u001b[0m\u001b[0;34m\u001b[0m\u001b[0m\n",
            "\u001b[0;32m/usr/local/lib/python3.6/dist-packages/tensorflow/python/eager/def_function.py\u001b[0m in \u001b[0;36m__call__\u001b[0;34m(self, *args, **kwds)\u001b[0m\n\u001b[1;32m    578\u001b[0m         \u001b[0mxla_context\u001b[0m\u001b[0;34m.\u001b[0m\u001b[0mExit\u001b[0m\u001b[0;34m(\u001b[0m\u001b[0;34m)\u001b[0m\u001b[0;34m\u001b[0m\u001b[0;34m\u001b[0m\u001b[0m\n\u001b[1;32m    579\u001b[0m     \u001b[0;32melse\u001b[0m\u001b[0;34m:\u001b[0m\u001b[0;34m\u001b[0m\u001b[0;34m\u001b[0m\u001b[0m\n\u001b[0;32m--> 580\u001b[0;31m       \u001b[0mresult\u001b[0m \u001b[0;34m=\u001b[0m \u001b[0mself\u001b[0m\u001b[0;34m.\u001b[0m\u001b[0m_call\u001b[0m\u001b[0;34m(\u001b[0m\u001b[0;34m*\u001b[0m\u001b[0margs\u001b[0m\u001b[0;34m,\u001b[0m \u001b[0;34m**\u001b[0m\u001b[0mkwds\u001b[0m\u001b[0;34m)\u001b[0m\u001b[0;34m\u001b[0m\u001b[0;34m\u001b[0m\u001b[0m\n\u001b[0m\u001b[1;32m    581\u001b[0m \u001b[0;34m\u001b[0m\u001b[0m\n\u001b[1;32m    582\u001b[0m     \u001b[0;32mif\u001b[0m \u001b[0mtracing_count\u001b[0m \u001b[0;34m==\u001b[0m \u001b[0mself\u001b[0m\u001b[0;34m.\u001b[0m\u001b[0m_get_tracing_count\u001b[0m\u001b[0;34m(\u001b[0m\u001b[0;34m)\u001b[0m\u001b[0;34m:\u001b[0m\u001b[0;34m\u001b[0m\u001b[0;34m\u001b[0m\u001b[0m\n",
            "\u001b[0;32m/usr/local/lib/python3.6/dist-packages/tensorflow/python/eager/def_function.py\u001b[0m in \u001b[0;36m_call\u001b[0;34m(self, *args, **kwds)\u001b[0m\n\u001b[1;32m    609\u001b[0m       \u001b[0;31m# In this case we have created variables on the first call, so we run the\u001b[0m\u001b[0;34m\u001b[0m\u001b[0;34m\u001b[0m\u001b[0;34m\u001b[0m\u001b[0m\n\u001b[1;32m    610\u001b[0m       \u001b[0;31m# defunned version which is guaranteed to never create variables.\u001b[0m\u001b[0;34m\u001b[0m\u001b[0;34m\u001b[0m\u001b[0;34m\u001b[0m\u001b[0m\n\u001b[0;32m--> 611\u001b[0;31m       \u001b[0;32mreturn\u001b[0m \u001b[0mself\u001b[0m\u001b[0;34m.\u001b[0m\u001b[0m_stateless_fn\u001b[0m\u001b[0;34m(\u001b[0m\u001b[0;34m*\u001b[0m\u001b[0margs\u001b[0m\u001b[0;34m,\u001b[0m \u001b[0;34m**\u001b[0m\u001b[0mkwds\u001b[0m\u001b[0;34m)\u001b[0m  \u001b[0;31m# pylint: disable=not-callable\u001b[0m\u001b[0;34m\u001b[0m\u001b[0;34m\u001b[0m\u001b[0m\n\u001b[0m\u001b[1;32m    612\u001b[0m     \u001b[0;32melif\u001b[0m \u001b[0mself\u001b[0m\u001b[0;34m.\u001b[0m\u001b[0m_stateful_fn\u001b[0m \u001b[0;32mis\u001b[0m \u001b[0;32mnot\u001b[0m \u001b[0;32mNone\u001b[0m\u001b[0;34m:\u001b[0m\u001b[0;34m\u001b[0m\u001b[0;34m\u001b[0m\u001b[0m\n\u001b[1;32m    613\u001b[0m       \u001b[0;31m# Release the lock early so that multiple threads can perform the call\u001b[0m\u001b[0;34m\u001b[0m\u001b[0;34m\u001b[0m\u001b[0;34m\u001b[0m\u001b[0m\n",
            "\u001b[0;32m/usr/local/lib/python3.6/dist-packages/tensorflow/python/eager/function.py\u001b[0m in \u001b[0;36m__call__\u001b[0;34m(self, *args, **kwargs)\u001b[0m\n\u001b[1;32m   2418\u001b[0m     \u001b[0;32mwith\u001b[0m \u001b[0mself\u001b[0m\u001b[0;34m.\u001b[0m\u001b[0m_lock\u001b[0m\u001b[0;34m:\u001b[0m\u001b[0;34m\u001b[0m\u001b[0;34m\u001b[0m\u001b[0m\n\u001b[1;32m   2419\u001b[0m       \u001b[0mgraph_function\u001b[0m\u001b[0;34m,\u001b[0m \u001b[0margs\u001b[0m\u001b[0;34m,\u001b[0m \u001b[0mkwargs\u001b[0m \u001b[0;34m=\u001b[0m \u001b[0mself\u001b[0m\u001b[0;34m.\u001b[0m\u001b[0m_maybe_define_function\u001b[0m\u001b[0;34m(\u001b[0m\u001b[0margs\u001b[0m\u001b[0;34m,\u001b[0m \u001b[0mkwargs\u001b[0m\u001b[0;34m)\u001b[0m\u001b[0;34m\u001b[0m\u001b[0;34m\u001b[0m\u001b[0m\n\u001b[0;32m-> 2420\u001b[0;31m     \u001b[0;32mreturn\u001b[0m \u001b[0mgraph_function\u001b[0m\u001b[0;34m.\u001b[0m\u001b[0m_filtered_call\u001b[0m\u001b[0;34m(\u001b[0m\u001b[0margs\u001b[0m\u001b[0;34m,\u001b[0m \u001b[0mkwargs\u001b[0m\u001b[0;34m)\u001b[0m  \u001b[0;31m# pylint: disable=protected-access\u001b[0m\u001b[0;34m\u001b[0m\u001b[0;34m\u001b[0m\u001b[0m\n\u001b[0m\u001b[1;32m   2421\u001b[0m \u001b[0;34m\u001b[0m\u001b[0m\n\u001b[1;32m   2422\u001b[0m   \u001b[0;34m@\u001b[0m\u001b[0mproperty\u001b[0m\u001b[0;34m\u001b[0m\u001b[0;34m\u001b[0m\u001b[0m\n",
            "\u001b[0;32m/usr/local/lib/python3.6/dist-packages/tensorflow/python/eager/function.py\u001b[0m in \u001b[0;36m_filtered_call\u001b[0;34m(self, args, kwargs)\u001b[0m\n\u001b[1;32m   1663\u001b[0m          if isinstance(t, (ops.Tensor,\n\u001b[1;32m   1664\u001b[0m                            resource_variable_ops.BaseResourceVariable))),\n\u001b[0;32m-> 1665\u001b[0;31m         self.captured_inputs)\n\u001b[0m\u001b[1;32m   1666\u001b[0m \u001b[0;34m\u001b[0m\u001b[0m\n\u001b[1;32m   1667\u001b[0m   \u001b[0;32mdef\u001b[0m \u001b[0m_call_flat\u001b[0m\u001b[0;34m(\u001b[0m\u001b[0mself\u001b[0m\u001b[0;34m,\u001b[0m \u001b[0margs\u001b[0m\u001b[0;34m,\u001b[0m \u001b[0mcaptured_inputs\u001b[0m\u001b[0;34m,\u001b[0m \u001b[0mcancellation_manager\u001b[0m\u001b[0;34m=\u001b[0m\u001b[0;32mNone\u001b[0m\u001b[0;34m)\u001b[0m\u001b[0;34m:\u001b[0m\u001b[0;34m\u001b[0m\u001b[0;34m\u001b[0m\u001b[0m\n",
            "\u001b[0;32m/usr/local/lib/python3.6/dist-packages/tensorflow/python/eager/function.py\u001b[0m in \u001b[0;36m_call_flat\u001b[0;34m(self, args, captured_inputs, cancellation_manager)\u001b[0m\n\u001b[1;32m   1744\u001b[0m       \u001b[0;31m# No tape is watching; skip to running the function.\u001b[0m\u001b[0;34m\u001b[0m\u001b[0;34m\u001b[0m\u001b[0;34m\u001b[0m\u001b[0m\n\u001b[1;32m   1745\u001b[0m       return self._build_call_outputs(self._inference_function.call(\n\u001b[0;32m-> 1746\u001b[0;31m           ctx, args, cancellation_manager=cancellation_manager))\n\u001b[0m\u001b[1;32m   1747\u001b[0m     forward_backward = self._select_forward_and_backward_functions(\n\u001b[1;32m   1748\u001b[0m         \u001b[0margs\u001b[0m\u001b[0;34m,\u001b[0m\u001b[0;34m\u001b[0m\u001b[0;34m\u001b[0m\u001b[0m\n",
            "\u001b[0;32m/usr/local/lib/python3.6/dist-packages/tensorflow/python/eager/function.py\u001b[0m in \u001b[0;36mcall\u001b[0;34m(self, ctx, args, cancellation_manager)\u001b[0m\n\u001b[1;32m    596\u001b[0m               \u001b[0minputs\u001b[0m\u001b[0;34m=\u001b[0m\u001b[0margs\u001b[0m\u001b[0;34m,\u001b[0m\u001b[0;34m\u001b[0m\u001b[0;34m\u001b[0m\u001b[0m\n\u001b[1;32m    597\u001b[0m               \u001b[0mattrs\u001b[0m\u001b[0;34m=\u001b[0m\u001b[0mattrs\u001b[0m\u001b[0;34m,\u001b[0m\u001b[0;34m\u001b[0m\u001b[0;34m\u001b[0m\u001b[0m\n\u001b[0;32m--> 598\u001b[0;31m               ctx=ctx)\n\u001b[0m\u001b[1;32m    599\u001b[0m         \u001b[0;32melse\u001b[0m\u001b[0;34m:\u001b[0m\u001b[0;34m\u001b[0m\u001b[0;34m\u001b[0m\u001b[0m\n\u001b[1;32m    600\u001b[0m           outputs = execute.execute_with_cancellation(\n",
            "\u001b[0;32m/usr/local/lib/python3.6/dist-packages/tensorflow/python/eager/execute.py\u001b[0m in \u001b[0;36mquick_execute\u001b[0;34m(op_name, num_outputs, inputs, attrs, ctx, name)\u001b[0m\n\u001b[1;32m     58\u001b[0m     \u001b[0mctx\u001b[0m\u001b[0;34m.\u001b[0m\u001b[0mensure_initialized\u001b[0m\u001b[0;34m(\u001b[0m\u001b[0;34m)\u001b[0m\u001b[0;34m\u001b[0m\u001b[0;34m\u001b[0m\u001b[0m\n\u001b[1;32m     59\u001b[0m     tensors = pywrap_tfe.TFE_Py_Execute(ctx._handle, device_name, op_name,\n\u001b[0;32m---> 60\u001b[0;31m                                         inputs, attrs, num_outputs)\n\u001b[0m\u001b[1;32m     61\u001b[0m   \u001b[0;32mexcept\u001b[0m \u001b[0mcore\u001b[0m\u001b[0;34m.\u001b[0m\u001b[0m_NotOkStatusException\u001b[0m \u001b[0;32mas\u001b[0m \u001b[0me\u001b[0m\u001b[0;34m:\u001b[0m\u001b[0;34m\u001b[0m\u001b[0;34m\u001b[0m\u001b[0m\n\u001b[1;32m     62\u001b[0m     \u001b[0;32mif\u001b[0m \u001b[0mname\u001b[0m \u001b[0;32mis\u001b[0m \u001b[0;32mnot\u001b[0m \u001b[0;32mNone\u001b[0m\u001b[0;34m:\u001b[0m\u001b[0;34m\u001b[0m\u001b[0;34m\u001b[0m\u001b[0m\n",
            "\u001b[0;31mKeyboardInterrupt\u001b[0m: "
          ]
        }
      ]
    },
    {
      "cell_type": "code",
      "metadata": {
        "id": "joeuX6tNLU_V"
      },
      "source": [
        "model_path = '/content/drive/My Drive/pneumonia_detection/densenet/weights_v5_final_2cls.13.hdf5'\n",
        "model = pf.loadmodel(model_path)"
      ],
      "execution_count": null,
      "outputs": []
    },
    {
      "cell_type": "code",
      "metadata": {
        "id": "Lts0e7XJgHY9",
        "outputId": "ece459d9-1822-4871-87bc-7ae42881abdc",
        "colab": {
          "base_uri": "https://localhost:8080/",
          "height": 68
        }
      },
      "source": [
        "pf.evaluate(model, X_val, y_val)"
      ],
      "execution_count": null,
      "outputs": [
        {
          "output_type": "stream",
          "text": [
            "19/19 [==============================] - 1s 55ms/step - loss: 0.2737 - accuracy: 0.9095\n",
            "Loss:0.2736620008945465\n",
            "Accuracy:0.9095394611358643\n"
          ],
          "name": "stdout"
        }
      ]
    },
    {
      "cell_type": "code",
      "metadata": {
        "id": "mZrsCiK5grOv",
        "outputId": "d14ba0b7-6cc9-4ff8-c918-75b396a9159a",
        "colab": {
          "base_uri": "https://localhost:8080/",
          "height": 484
        }
      },
      "source": [
        "preds = pf.get_predictions(model, X_val, 0.35)\n",
        "pf.get_visualizations(y_val,preds)"
      ],
      "execution_count": null,
      "outputs": [
        {
          "output_type": "stream",
          "text": [
            "(2, 2)\n"
          ],
          "name": "stdout"
        },
        {
          "output_type": "display_data",
          "data": {
            "image/png": "[encoded data removed]",
            "text/plain": [
              "<Figure size 576x432 with 2 Axes>"
            ]
          },
          "metadata": {
            "tags": [],
            "needs_background": "light"
          }
        }
      ]
    },
    {
      "cell_type": "code",
      "metadata": {
        "id": "cPtnMvTNg2bp"
      },
      "source": [
        "class secondary_classifier():\n",
        "\n",
        "    def __init__(self, primary_clf_path, clf_name = 'SVM'):\n",
        "\n",
        "        self.primary_clf_path = primary_clf_path\n",
        "        self.primary_clf = load_model(self.primary_clf_path)\n",
        "        self.clf_name = clf_name\n",
        "\n",
        "    def get_classifier(self):\n",
        "\n",
        "        try:\n",
        "            if self.clf_name == 'SVM':\n",
        "                from sklearn.svm import SVC\n",
        "                clf = SVC(class_weight={0:1, 1:1, 2:1,3:500 }, probability = True)\n",
        "\n",
        "                return clf\n",
        "            \n",
        "            if self.clf_name == 'XGBOOST':\n",
        "                import xgboost as xgb\n",
        "                clf = xgb.XGBClassifier(n_estimators=100, max_depth = 10, objective='multi:softprob',seed=0, silent=True, nthread=-1, learning_rate=0.1, booster='dart')\n",
        "                return clf\n",
        "\n",
        "            if self.clf_name == 'RANDOM_FOREST':\n",
        "                from sklearn.ensemble import RandomForestClassifier\n",
        "                clf = RandomForestClassifier(n_estimators = 100, criterion='entropy',max_depth = 10, class_weight={0:1, 1:1, 2:1, 3:500})\n",
        "                return clf\n",
        "\n",
        "        except:\n",
        "            raise Exception('Invalid classifier name')\n",
        "\n",
        "\n",
        "    def train(self, clf, X_train, y_train, model_save_path=0, save = False):\n",
        "\n",
        "        primary_clf = load_model(self.primary_clf_path)\n",
        "        embedding_predictor = Model(inputs = primary_clf.input, outputs = primary_clf.layers[-2].output)\n",
        "\n",
        "        train_embeddings = embedding_predictor.predict(X_train)\n",
        "        clf.fit(train_embeddings,y_train)\n",
        "        print(\"Success\")\n",
        "\n",
        "        if save == True:\n",
        "            import pickle\n",
        "            pickle.dump(clf, open(model_save_path + '/sec_clf.sav','wb'))\n",
        "            return clf\n",
        "        return clf\n",
        "\n",
        "\n",
        "    def get_visualizations(self,orig_test_labels, preds):\n",
        "        def plot_confusion_matrix(cm,target_names,title='Confusion matrix',cmap=None,normalize=True):\n",
        "            import matplotlib.pyplot as plt\n",
        "            import numpy as np\n",
        "            import itertools\n",
        "            \n",
        "            \n",
        "            accuracy = np.trace(cm) / float(np.sum(cm))\n",
        "            misclass = 1 - accuracy\n",
        "            \n",
        "            if cmap is None:\n",
        "                cmap = plt.get_cmap('Blues')\n",
        "                \n",
        "            plt.figure(figsize=(8, 6))\n",
        "            plt.imshow(cm, interpolation='nearest', cmap=cmap)\n",
        "            plt.title(title)\n",
        "            plt.colorbar()\n",
        "            \n",
        "            if target_names is not None:\n",
        "                tick_marks = np.arange(len(target_names))\n",
        "                plt.xticks(tick_marks, target_names, rotation=45)\n",
        "                plt.yticks(tick_marks, target_names)\n",
        "                \n",
        "            if normalize:\n",
        "                cm = cm.astype('float') / cm.sum(axis=1)[:, np.newaxis]\n",
        "                \n",
        "            thresh = cm.max() / 1.5 if normalize else cm.max() / 2\n",
        "            for i, j in itertools.product(range(cm.shape[0]), range(cm.shape[1])):\n",
        "                if normalize:\n",
        "                    plt.text(j, i, \"{:0.4f}\".format(cm[i, j]),\n",
        "                    horizontalalignment=\"center\",\n",
        "                    color=\"white\" if cm[i, j] > thresh else \"black\")\n",
        "                else:\n",
        "                    plt.text(j, i, \"{:,}\".format(cm[i, j]),\n",
        "                    horizontalalignment=\"center\",\n",
        "                    color=\"white\" if cm[i, j] > thresh else \"black\")\n",
        "                    \n",
        "            plt.tight_layout()\n",
        "            plt.ylabel('True label')\n",
        "            plt.xlabel('Predicted label\\naccuracy={:0.4f}; misclass={:0.4f}'.format(accuracy, misclass))\n",
        "            plt.show()\n",
        "            \n",
        "        import seaborn as sns\n",
        "        import matplotlib.pyplot as plt\n",
        "        import matplotlib.image as mimg\n",
        "        from sklearn.metrics import confusion_matrix\n",
        "        \n",
        "        cm  = confusion_matrix(orig_test_labels, preds)\n",
        "        print(cm.shape)\n",
        "        plot_confusion_matrix(cm,normalize=False,target_names=['normal','bacterial','viral','covid'],title=\"Confusion Matrix\")\n",
        "\n",
        "\n",
        "    def evaluate(self, clf, X_test, y_test, visualize = True):\n",
        "        primary_clf = load_model(self.primary_clf_path)\n",
        "        embedding_predictor = Model(inputs = primary_clf.input, outputs = primary_clf.layers[-2].output)\n",
        "\n",
        "\n",
        "        test_embeddings = embedding_predictor.predict(X_test)\n",
        "        predictions = clf.predict(test_embeddings)\n",
        "        acc = np.float(np.sum(predictions == y_test)) / len(y_test)\n",
        "        print(\"Accuracy:{}\".format(acc))\n",
        "\n",
        "\n",
        "    def get_probabilities(self,clf, X_test, y_test, prob = True):\n",
        "\n",
        "        primary_clf = load_model(self.primary_clf_path)\n",
        "        embedding_predictor = Model(inputs = primary_clf.input, outputs = primary_clf.layers[-2].output)\n",
        "\n",
        "\n",
        "        test_embeddings = embedding_predictor.predict(X_test)\n",
        "\n",
        "        if prob == True:\n",
        "          try:\n",
        "              predictions = clf.predict_proba(test_embeddings)\n",
        "              return predictions\n",
        "\n",
        "          except:\n",
        "              raise Exception('Classifier does not support Probabilities')\n",
        "        else:\n",
        "          return clf.predict(test_embeddings)\n",
        "\n",
        "\n",
        "    def data_loader(self, X_train_path, y_train_path, X_test_path, y_test_path):\n",
        "\n",
        "        X_train = np.load(X_train_path)\n",
        "        y_train = np.load(y_train_path)\n",
        "\n",
        "        X_test = np.load(X_test_path)\n",
        "        y_test = np.load(y_test_path)\n",
        "\n",
        "        for i in range(X_train.shape[0]):\n",
        "            X_train[i] = np.array(X_train[i]).astype('float32') / 255.\n",
        "\n",
        "        for i in range(X_test.shape[0]):\n",
        "            X_test[i] = np.array(X_test[i]).astype('float32') / 255.\n",
        "\n",
        "        return (X_train,y_train, X_test, y_test)\n"
      ],
      "execution_count": null,
      "outputs": []
    },
    {
      "cell_type": "code",
      "metadata": {
        "id": "QDNZ5tO-p1FJ"
      },
      "source": [
        "model_path = '/content/drive/My Drive/pneumonia_detection/densenet/weights_v5_final_2cls.13.hdf5'"
      ],
      "execution_count": null,
      "outputs": []
    },
    {
      "cell_type": "code",
      "metadata": {
        "id": "CFA83ps4qehf"
      },
      "source": [
        "sc = secondary_classifier(model_path)"
      ],
      "execution_count": null,
      "outputs": []
    },
    {
      "cell_type": "code",
      "metadata": {
        "id": "V3DbC3GzqlUT"
      },
      "source": [
        "X_train_path = '/content/drive/My Drive/pneumonia_detection/Numpy Files/train_images.npy'\n",
        "y_train_path = '/content/drive/My Drive/pneumonia_detection/Numpy Files/train_labels.npy'\n",
        "X_test_path = '/content/drive/My Drive/pneumonia_detection/Numpy Files/test_images.npy'\n",
        "y_test_path = '/content/drive/My Drive/pneumonia_detection/Numpy Files/test_labels.npy'"
      ],
      "execution_count": null,
      "outputs": []
    },
    {
      "cell_type": "code",
      "metadata": {
        "id": "-VsnRKr8rDdP"
      },
      "source": [
        "X_train, y_train, X_test, y_test = sc.data_loader(X_train_path,y_train_path,X_test_path,y_test_path)"
      ],
      "execution_count": null,
      "outputs": []
    },
    {
      "cell_type": "code",
      "metadata": {
        "id": "XN-hg0a2rQ7R"
      },
      "source": [
        "sclf = sc.get_classifier()"
      ],
      "execution_count": null,
      "outputs": []
    },
    {
      "cell_type": "code",
      "metadata": {
        "id": "QjSdBXaHr97x",
        "outputId": "b0b0da35-e29a-4c8c-b6c2-4b45e07c53b9",
        "colab": {
          "base_uri": "https://localhost:8080/",
          "height": 34
        }
      },
      "source": [
        "sclf = sc.train(sclf,X_train, y_train)"
      ],
      "execution_count": null,
      "outputs": [
        {
          "output_type": "stream",
          "text": [
            "Success\n"
          ],
          "name": "stdout"
        }
      ]
    },
    {
      "cell_type": "code",
      "metadata": {
        "id": "iMZGm4eYsKwp",
        "outputId": "a8ff1944-4411-47b6-aa49-8b15e63f508c",
        "colab": {
          "base_uri": "https://localhost:8080/",
          "height": 34
        }
      },
      "source": [
        "sc.evaluate(sclf, X_test,y_test)"
      ],
      "execution_count": null,
      "outputs": [
        {
          "output_type": "stream",
          "text": [
            "Accuracy:0.809076682316119\n"
          ],
          "name": "stdout"
        }
      ]
    },
    {
      "cell_type": "code",
      "metadata": {
        "id": "IlKfmnmQs5uf"
      },
      "source": [
        "pred = sc.get_probabilities(sclf, X_test, y_test, prob = False)"
      ],
      "execution_count": null,
      "outputs": []
    },
    {
      "cell_type": "code",
      "metadata": {
        "id": "3hLlWTwDxanK",
        "outputId": "6346d0b0-b4a1-42a1-9805-060b45192ea9",
        "colab": {
          "base_uri": "https://localhost:8080/",
          "height": 484
        }
      },
      "source": [
        "sc.get_visualizations(y_test, pred)"
      ],
      "execution_count": null,
      "outputs": [
        {
          "output_type": "stream",
          "text": [
            "(4, 4)\n"
          ],
          "name": "stdout"
        },
        {
          "output_type": "display_data",
          "data": {
            "image/png": "[encoded data removed]",
            "text/plain": [
              "<Figure size 576x432 with 2 Axes>"
            ]
          },
          "metadata": {
            "tags": [],
            "needs_background": "light"
          }
        }
      ]
    },
    {
      "cell_type": "code",
      "metadata": {
        "id": "PFEs3820xs2y"
      },
      "source": [
        "import sklearn"
      ],
      "execution_count": null,
      "outputs": []
    },
    {
      "cell_type": "code",
      "metadata": {
        "id": "9xeY2Y9k80oA",
        "outputId": "8dfd9945-3d9c-49af-9a70-02481e9c8326",
        "colab": {
          "base_uri": "https://localhost:8080/",
          "height": 35
        }
      },
      "source": [
        "sklearn.__version__"
      ],
      "execution_count": null,
      "outputs": [
        {
          "output_type": "execute_result",
          "data": {
            "application/vnd.google.colaboratory.intrinsic+json": {
              "type": "string"
            },
            "text/plain": [
              "'0.22.2.post1'"
            ]
          },
          "metadata": {
            "tags": []
          },
          "execution_count": 13
        }
      ]
    },
    {
      "cell_type": "code",
      "metadata": {
        "id": "4Kgl-cgS83TI"
      },
      "source": [
        ""
      ],
      "execution_count": null,
      "outputs": []
    }
  ]
}